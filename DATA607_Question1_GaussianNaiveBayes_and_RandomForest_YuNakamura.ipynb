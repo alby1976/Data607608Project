version https://git-lfs.github.com/spec/v1
oid sha256:0e6386d1065e6b6aa4edc0e6a91f3f148f1b4b77d2c4b3291c8d061cd3c36837
size 2640787
